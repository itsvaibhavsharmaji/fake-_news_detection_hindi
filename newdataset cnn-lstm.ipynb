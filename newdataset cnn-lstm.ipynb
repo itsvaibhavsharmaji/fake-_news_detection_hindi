{
 "cells": [
  {
   "cell_type": "code",
   "execution_count": 127,
   "id": "021e31d3",
   "metadata": {},
   "outputs": [],
   "source": [
    "\n",
    "import pandas as pd\n",
    "import re\n",
    "\n",
    "\n"
   ]
  },
  {
   "cell_type": "code",
   "execution_count": 128,
   "id": "d7ec0c79",
   "metadata": {},
   "outputs": [],
   "source": [
    "# Load the true news data from an Excel file\n",
    "true_news = pd.read_excel(r\"C:\\Users\\vaibh\\Desktop\\dataset combine\\truecombine.xlsx\")\n",
    "\n",
    "# Load the fake news data from an Excel file\n",
    "fake_news = pd.read_excel(r\"C:\\Users\\vaibh\\Desktop\\2023\\fakecombine.xlsx\")"
   ]
  },
  {
   "cell_type": "code",
   "execution_count": 129,
   "id": "fa0d4b84",
   "metadata": {},
   "outputs": [
    {
     "data": {
      "text/plain": [
       "Column1              0\n",
       "short_description    0\n",
       "dtype: int64"
      ]
     },
     "execution_count": 129,
     "metadata": {},
     "output_type": "execute_result"
    }
   ],
   "source": [
    "#null values in fake news\n",
    "fake_news.isnull().sum(axis = 0)"
   ]
  },
  {
   "cell_type": "code",
   "execution_count": 130,
   "id": "93d3de8c",
   "metadata": {},
   "outputs": [
    {
     "data": {
      "text/html": [
       "<div>\n",
       "<style scoped>\n",
       "    .dataframe tbody tr th:only-of-type {\n",
       "        vertical-align: middle;\n",
       "    }\n",
       "\n",
       "    .dataframe tbody tr th {\n",
       "        vertical-align: top;\n",
       "    }\n",
       "\n",
       "    .dataframe thead th {\n",
       "        text-align: right;\n",
       "    }\n",
       "</style>\n",
       "<table border=\"1\" class=\"dataframe\">\n",
       "  <thead>\n",
       "    <tr style=\"text-align: right;\">\n",
       "      <th></th>\n",
       "      <th>Column1</th>\n",
       "      <th>short_description</th>\n",
       "    </tr>\n",
       "  </thead>\n",
       "  <tbody>\n",
       "    <tr>\n",
       "      <th>0</th>\n",
       "      <td>1</td>\n",
       "      <td>गडकरी ने नहीं दिया है पीएम मोदी और राम मंदिर ...</td>\n",
       "    </tr>\n",
       "    <tr>\n",
       "      <th>1</th>\n",
       "      <td>2</td>\n",
       "      <td>राम मंदिर वहीं बना है जहां रामलला विराजमान थे...</td>\n",
       "    </tr>\n",
       "    <tr>\n",
       "      <th>2</th>\n",
       "      <td>3</td>\n",
       "      <td>यूपी में बोर्ड की परीक्षा नहीं हुई है रद्द, य...</td>\n",
       "    </tr>\n",
       "    <tr>\n",
       "      <th>3</th>\n",
       "      <td>4</td>\n",
       "      <td>नेपाल से अयोध्या के जुलूस का नहीं, ये ग्रेटर ...</td>\n",
       "    </tr>\n",
       "    <tr>\n",
       "      <th>4</th>\n",
       "      <td>5</td>\n",
       "      <td>एमपी का सीएम बनने के बाद मोहन यादव ने दी जनता...</td>\n",
       "    </tr>\n",
       "    <tr>\n",
       "      <th>...</th>\n",
       "      <td>...</td>\n",
       "      <td>...</td>\n",
       "    </tr>\n",
       "    <tr>\n",
       "      <th>2699</th>\n",
       "      <td>2700</td>\n",
       "      <td>राजस्थान की महिला MLA की छवि खराब करने के लि...</td>\n",
       "    </tr>\n",
       "    <tr>\n",
       "      <th>2700</th>\n",
       "      <td>2701</td>\n",
       "      <td>मध्य प्रदेश की साल 2019 की घटना को हालिया बत...</td>\n",
       "    </tr>\n",
       "    <tr>\n",
       "      <th>2701</th>\n",
       "      <td>2702</td>\n",
       "      <td>खुर्जा में बोइंग का वेयरहाउस खुला, लेकिन वायर...</td>\n",
       "    </tr>\n",
       "    <tr>\n",
       "      <th>2702</th>\n",
       "      <td>2703</td>\n",
       "      <td>जलते हुए समुद्री जहाज का यह वीडियो 2020 का है...</td>\n",
       "    </tr>\n",
       "    <tr>\n",
       "      <th>2703</th>\n",
       "      <td>2704</td>\n",
       "      <td>ढांचे वाली जगह पर ही बन रहा मंदिर, तीन किलोमी...</td>\n",
       "    </tr>\n",
       "  </tbody>\n",
       "</table>\n",
       "<p>2704 rows × 2 columns</p>\n",
       "</div>"
      ],
      "text/plain": [
       "      Column1                                  short_description\n",
       "0           1   गडकरी ने नहीं दिया है पीएम मोदी और राम मंदिर ...\n",
       "1           2   राम मंदिर वहीं बना है जहां रामलला विराजमान थे...\n",
       "2           3   यूपी में बोर्ड की परीक्षा नहीं हुई है रद्द, य...\n",
       "3           4   नेपाल से अयोध्या के जुलूस का नहीं, ये ग्रेटर ...\n",
       "4           5   एमपी का सीएम बनने के बाद मोहन यादव ने दी जनता...\n",
       "...       ...                                                ...\n",
       "2699     2700    राजस्थान की महिला MLA की छवि खराब करने के लि...\n",
       "2700     2701    मध्य प्रदेश की साल 2019 की घटना को हालिया बत...\n",
       "2701     2702   खुर्जा में बोइंग का वेयरहाउस खुला, लेकिन वायर...\n",
       "2702     2703   जलते हुए समुद्री जहाज का यह वीडियो 2020 का है...\n",
       "2703     2704   ढांचे वाली जगह पर ही बन रहा मंदिर, तीन किलोमी...\n",
       "\n",
       "[2704 rows x 2 columns]"
      ]
     },
     "execution_count": 130,
     "metadata": {},
     "output_type": "execute_result"
    }
   ],
   "source": [
    "fake_news"
   ]
  },
  {
   "cell_type": "code",
   "execution_count": 131,
   "id": "4ab96ad6",
   "metadata": {},
   "outputs": [
    {
     "data": {
      "text/plain": [
       "Column1              0\n",
       "short_description    0\n",
       "dtype: int64"
      ]
     },
     "execution_count": 131,
     "metadata": {},
     "output_type": "execute_result"
    }
   ],
   "source": [
    "#null values in fake news\n",
    "true_news.isnull().sum(axis = 0)"
   ]
  },
  {
   "cell_type": "code",
   "execution_count": 132,
   "id": "3f129f60",
   "metadata": {},
   "outputs": [
    {
     "data": {
      "text/html": [
       "<div>\n",
       "<style scoped>\n",
       "    .dataframe tbody tr th:only-of-type {\n",
       "        vertical-align: middle;\n",
       "    }\n",
       "\n",
       "    .dataframe tbody tr th {\n",
       "        vertical-align: top;\n",
       "    }\n",
       "\n",
       "    .dataframe thead th {\n",
       "        text-align: right;\n",
       "    }\n",
       "</style>\n",
       "<table border=\"1\" class=\"dataframe\">\n",
       "  <thead>\n",
       "    <tr style=\"text-align: right;\">\n",
       "      <th></th>\n",
       "      <th>Column1</th>\n",
       "      <th>short_description</th>\n",
       "    </tr>\n",
       "  </thead>\n",
       "  <tbody>\n",
       "    <tr>\n",
       "      <th>0</th>\n",
       "      <td>1</td>\n",
       "      <td>राम मंदिर प्राण-प्रतिष्ठा: फर्श पर सोना-नारियल...</td>\n",
       "    </tr>\n",
       "    <tr>\n",
       "      <th>1</th>\n",
       "      <td>2</td>\n",
       "      <td>Ayodhya Ram Mandir Pran Pratishtha से पहले कठि...</td>\n",
       "    </tr>\n",
       "    <tr>\n",
       "      <th>2</th>\n",
       "      <td>3</td>\n",
       "      <td>8 PHOTOS:देखें रामलला की प्राण-प्रतिष्ठा से पह...</td>\n",
       "    </tr>\n",
       "    <tr>\n",
       "      <th>3</th>\n",
       "      <td>4</td>\n",
       "      <td>22 जनवरी को अयोध्या में कैसा रहेगा मौसम, जानें...</td>\n",
       "    </tr>\n",
       "    <tr>\n",
       "      <th>4</th>\n",
       "      <td>5</td>\n",
       "      <td>सोलापुर में PM की 15 बड़ी बातें, मोदी के 22 जन...</td>\n",
       "    </tr>\n",
       "    <tr>\n",
       "      <th>...</th>\n",
       "      <td>...</td>\n",
       "      <td>...</td>\n",
       "    </tr>\n",
       "    <tr>\n",
       "      <th>4015</th>\n",
       "      <td>4016</td>\n",
       "      <td>प्राण प्रतिष्ठा की अयोध्या से लेकर कैलिफोर्निय...</td>\n",
       "    </tr>\n",
       "    <tr>\n",
       "      <th>4016</th>\n",
       "      <td>4017</td>\n",
       "      <td>छक्का जड़ने पर मिलेंगे 12 रन... जल्द आएगा नया ...</td>\n",
       "    </tr>\n",
       "    <tr>\n",
       "      <th>4017</th>\n",
       "      <td>4018</td>\n",
       "      <td>Power Consumption: चालू वित्त वर्ष की अप्रैल-द...</td>\n",
       "    </tr>\n",
       "    <tr>\n",
       "      <th>4018</th>\n",
       "      <td>4019</td>\n",
       "      <td>Entertainment Top 5 News 21 Jan: 'फाइटर' में क...</td>\n",
       "    </tr>\n",
       "    <tr>\n",
       "      <th>4019</th>\n",
       "      <td>4020</td>\n",
       "      <td>Ram Mandir के लिए 'सालार' के मेकर्स ने तैयार क...</td>\n",
       "    </tr>\n",
       "  </tbody>\n",
       "</table>\n",
       "<p>4020 rows × 2 columns</p>\n",
       "</div>"
      ],
      "text/plain": [
       "      Column1                                  short_description\n",
       "0           1  राम मंदिर प्राण-प्रतिष्ठा: फर्श पर सोना-नारियल...\n",
       "1           2  Ayodhya Ram Mandir Pran Pratishtha से पहले कठि...\n",
       "2           3  8 PHOTOS:देखें रामलला की प्राण-प्रतिष्ठा से पह...\n",
       "3           4  22 जनवरी को अयोध्या में कैसा रहेगा मौसम, जानें...\n",
       "4           5  सोलापुर में PM की 15 बड़ी बातें, मोदी के 22 जन...\n",
       "...       ...                                                ...\n",
       "4015     4016  प्राण प्रतिष्ठा की अयोध्या से लेकर कैलिफोर्निय...\n",
       "4016     4017  छक्का जड़ने पर मिलेंगे 12 रन... जल्द आएगा नया ...\n",
       "4017     4018  Power Consumption: चालू वित्त वर्ष की अप्रैल-द...\n",
       "4018     4019  Entertainment Top 5 News 21 Jan: 'फाइटर' में क...\n",
       "4019     4020  Ram Mandir के लिए 'सालार' के मेकर्स ने तैयार क...\n",
       "\n",
       "[4020 rows x 2 columns]"
      ]
     },
     "execution_count": 132,
     "metadata": {},
     "output_type": "execute_result"
    }
   ],
   "source": [
    "true_news"
   ]
  },
  {
   "cell_type": "code",
   "execution_count": 133,
   "id": "f3be0677",
   "metadata": {},
   "outputs": [
    {
     "data": {
      "text/html": [
       "<div>\n",
       "<style scoped>\n",
       "    .dataframe tbody tr th:only-of-type {\n",
       "        vertical-align: middle;\n",
       "    }\n",
       "\n",
       "    .dataframe tbody tr th {\n",
       "        vertical-align: top;\n",
       "    }\n",
       "\n",
       "    .dataframe thead th {\n",
       "        text-align: right;\n",
       "    }\n",
       "</style>\n",
       "<table border=\"1\" class=\"dataframe\">\n",
       "  <thead>\n",
       "    <tr style=\"text-align: right;\">\n",
       "      <th></th>\n",
       "      <th>Column1</th>\n",
       "      <th>short_description</th>\n",
       "    </tr>\n",
       "  </thead>\n",
       "  <tbody>\n",
       "    <tr>\n",
       "      <th>0</th>\n",
       "      <td>1</td>\n",
       "      <td>राम मंदिर प्राण-प्रतिष्ठा: फर्श पर सोना-नारियल...</td>\n",
       "    </tr>\n",
       "    <tr>\n",
       "      <th>1</th>\n",
       "      <td>2</td>\n",
       "      <td>Ayodhya Ram Mandir Pran Pratishtha से पहले कठि...</td>\n",
       "    </tr>\n",
       "    <tr>\n",
       "      <th>2</th>\n",
       "      <td>3</td>\n",
       "      <td>8 PHOTOS:देखें रामलला की प्राण-प्रतिष्ठा से पह...</td>\n",
       "    </tr>\n",
       "    <tr>\n",
       "      <th>3</th>\n",
       "      <td>4</td>\n",
       "      <td>22 जनवरी को अयोध्या में कैसा रहेगा मौसम, जानें...</td>\n",
       "    </tr>\n",
       "    <tr>\n",
       "      <th>4</th>\n",
       "      <td>5</td>\n",
       "      <td>सोलापुर में PM की 15 बड़ी बातें, मोदी के 22 जन...</td>\n",
       "    </tr>\n",
       "  </tbody>\n",
       "</table>\n",
       "</div>"
      ],
      "text/plain": [
       "   Column1                                  short_description\n",
       "0        1  राम मंदिर प्राण-प्रतिष्ठा: फर्श पर सोना-नारियल...\n",
       "1        2  Ayodhya Ram Mandir Pran Pratishtha से पहले कठि...\n",
       "2        3  8 PHOTOS:देखें रामलला की प्राण-प्रतिष्ठा से पह...\n",
       "3        4  22 जनवरी को अयोध्या में कैसा रहेगा मौसम, जानें...\n",
       "4        5  सोलापुर में PM की 15 बड़ी बातें, मोदी के 22 जन..."
      ]
     },
     "execution_count": 133,
     "metadata": {},
     "output_type": "execute_result"
    }
   ],
   "source": [
    "true_news.head()"
   ]
  },
  {
   "cell_type": "code",
   "execution_count": 134,
   "id": "fdf96f5e",
   "metadata": {},
   "outputs": [],
   "source": [
    "# Drop unnecessary columns from both dataframes\n",
    "true_news=true_news.drop(['Column1'],axis=1)\n",
    "fake_news=fake_news.drop(['Column1'],axis=1)"
   ]
  },
  {
   "cell_type": "code",
   "execution_count": 135,
   "id": "61ca46a4",
   "metadata": {},
   "outputs": [
    {
     "data": {
      "text/html": [
       "<div>\n",
       "<style scoped>\n",
       "    .dataframe tbody tr th:only-of-type {\n",
       "        vertical-align: middle;\n",
       "    }\n",
       "\n",
       "    .dataframe tbody tr th {\n",
       "        vertical-align: top;\n",
       "    }\n",
       "\n",
       "    .dataframe thead th {\n",
       "        text-align: right;\n",
       "    }\n",
       "</style>\n",
       "<table border=\"1\" class=\"dataframe\">\n",
       "  <thead>\n",
       "    <tr style=\"text-align: right;\">\n",
       "      <th></th>\n",
       "      <th>short_description</th>\n",
       "    </tr>\n",
       "  </thead>\n",
       "  <tbody>\n",
       "    <tr>\n",
       "      <th>0</th>\n",
       "      <td>राम मंदिर प्राण-प्रतिष्ठा: फर्श पर सोना-नारियल...</td>\n",
       "    </tr>\n",
       "    <tr>\n",
       "      <th>1</th>\n",
       "      <td>Ayodhya Ram Mandir Pran Pratishtha से पहले कठि...</td>\n",
       "    </tr>\n",
       "    <tr>\n",
       "      <th>2</th>\n",
       "      <td>8 PHOTOS:देखें रामलला की प्राण-प्रतिष्ठा से पह...</td>\n",
       "    </tr>\n",
       "    <tr>\n",
       "      <th>3</th>\n",
       "      <td>22 जनवरी को अयोध्या में कैसा रहेगा मौसम, जानें...</td>\n",
       "    </tr>\n",
       "    <tr>\n",
       "      <th>4</th>\n",
       "      <td>सोलापुर में PM की 15 बड़ी बातें, मोदी के 22 जन...</td>\n",
       "    </tr>\n",
       "  </tbody>\n",
       "</table>\n",
       "</div>"
      ],
      "text/plain": [
       "                                   short_description\n",
       "0  राम मंदिर प्राण-प्रतिष्ठा: फर्श पर सोना-नारियल...\n",
       "1  Ayodhya Ram Mandir Pran Pratishtha से पहले कठि...\n",
       "2  8 PHOTOS:देखें रामलला की प्राण-प्रतिष्ठा से पह...\n",
       "3  22 जनवरी को अयोध्या में कैसा रहेगा मौसम, जानें...\n",
       "4  सोलापुर में PM की 15 बड़ी बातें, मोदी के 22 जन..."
      ]
     },
     "execution_count": 135,
     "metadata": {},
     "output_type": "execute_result"
    }
   ],
   "source": [
    "true_news.head()"
   ]
  },
  {
   "cell_type": "code",
   "execution_count": 136,
   "id": "4eb3efbd",
   "metadata": {},
   "outputs": [
    {
     "data": {
      "text/html": [
       "<div>\n",
       "<style scoped>\n",
       "    .dataframe tbody tr th:only-of-type {\n",
       "        vertical-align: middle;\n",
       "    }\n",
       "\n",
       "    .dataframe tbody tr th {\n",
       "        vertical-align: top;\n",
       "    }\n",
       "\n",
       "    .dataframe thead th {\n",
       "        text-align: right;\n",
       "    }\n",
       "</style>\n",
       "<table border=\"1\" class=\"dataframe\">\n",
       "  <thead>\n",
       "    <tr style=\"text-align: right;\">\n",
       "      <th></th>\n",
       "      <th>short_description</th>\n",
       "    </tr>\n",
       "  </thead>\n",
       "  <tbody>\n",
       "    <tr>\n",
       "      <th>0</th>\n",
       "      <td>गडकरी ने नहीं दिया है पीएम मोदी और राम मंदिर ...</td>\n",
       "    </tr>\n",
       "    <tr>\n",
       "      <th>1</th>\n",
       "      <td>राम मंदिर वहीं बना है जहां रामलला विराजमान थे...</td>\n",
       "    </tr>\n",
       "    <tr>\n",
       "      <th>2</th>\n",
       "      <td>यूपी में बोर्ड की परीक्षा नहीं हुई है रद्द, य...</td>\n",
       "    </tr>\n",
       "    <tr>\n",
       "      <th>3</th>\n",
       "      <td>नेपाल से अयोध्या के जुलूस का नहीं, ये ग्रेटर ...</td>\n",
       "    </tr>\n",
       "    <tr>\n",
       "      <th>4</th>\n",
       "      <td>एमपी का सीएम बनने के बाद मोहन यादव ने दी जनता...</td>\n",
       "    </tr>\n",
       "  </tbody>\n",
       "</table>\n",
       "</div>"
      ],
      "text/plain": [
       "                                   short_description\n",
       "0   गडकरी ने नहीं दिया है पीएम मोदी और राम मंदिर ...\n",
       "1   राम मंदिर वहीं बना है जहां रामलला विराजमान थे...\n",
       "2   यूपी में बोर्ड की परीक्षा नहीं हुई है रद्द, य...\n",
       "3   नेपाल से अयोध्या के जुलूस का नहीं, ये ग्रेटर ...\n",
       "4   एमपी का सीएम बनने के बाद मोहन यादव ने दी जनता..."
      ]
     },
     "execution_count": 136,
     "metadata": {},
     "output_type": "execute_result"
    }
   ],
   "source": [
    "fake_news.head()"
   ]
  },
  {
   "cell_type": "code",
   "execution_count": 137,
   "id": "72f4dd08",
   "metadata": {},
   "outputs": [],
   "source": [
    "fake_news=fake_news.dropna()\n",
    "true_news=true_news.dropna()"
   ]
  },
  {
   "cell_type": "code",
   "execution_count": 138,
   "id": "999de957",
   "metadata": {},
   "outputs": [
    {
     "data": {
      "text/html": [
       "<div>\n",
       "<style scoped>\n",
       "    .dataframe tbody tr th:only-of-type {\n",
       "        vertical-align: middle;\n",
       "    }\n",
       "\n",
       "    .dataframe tbody tr th {\n",
       "        vertical-align: top;\n",
       "    }\n",
       "\n",
       "    .dataframe thead th {\n",
       "        text-align: right;\n",
       "    }\n",
       "</style>\n",
       "<table border=\"1\" class=\"dataframe\">\n",
       "  <thead>\n",
       "    <tr style=\"text-align: right;\">\n",
       "      <th></th>\n",
       "      <th>short_description</th>\n",
       "    </tr>\n",
       "  </thead>\n",
       "  <tbody>\n",
       "    <tr>\n",
       "      <th>0</th>\n",
       "      <td>गडकरी ने नहीं दिया है पीएम मोदी और राम मंदिर ...</td>\n",
       "    </tr>\n",
       "    <tr>\n",
       "      <th>1</th>\n",
       "      <td>राम मंदिर वहीं बना है जहां रामलला विराजमान थे...</td>\n",
       "    </tr>\n",
       "    <tr>\n",
       "      <th>2</th>\n",
       "      <td>यूपी में बोर्ड की परीक्षा नहीं हुई है रद्द, य...</td>\n",
       "    </tr>\n",
       "    <tr>\n",
       "      <th>3</th>\n",
       "      <td>नेपाल से अयोध्या के जुलूस का नहीं, ये ग्रेटर ...</td>\n",
       "    </tr>\n",
       "    <tr>\n",
       "      <th>4</th>\n",
       "      <td>एमपी का सीएम बनने के बाद मोहन यादव ने दी जनता...</td>\n",
       "    </tr>\n",
       "    <tr>\n",
       "      <th>...</th>\n",
       "      <td>...</td>\n",
       "    </tr>\n",
       "    <tr>\n",
       "      <th>2699</th>\n",
       "      <td>राजस्थान की महिला MLA की छवि खराब करने के लि...</td>\n",
       "    </tr>\n",
       "    <tr>\n",
       "      <th>2700</th>\n",
       "      <td>मध्य प्रदेश की साल 2019 की घटना को हालिया बत...</td>\n",
       "    </tr>\n",
       "    <tr>\n",
       "      <th>2701</th>\n",
       "      <td>खुर्जा में बोइंग का वेयरहाउस खुला, लेकिन वायर...</td>\n",
       "    </tr>\n",
       "    <tr>\n",
       "      <th>2702</th>\n",
       "      <td>जलते हुए समुद्री जहाज का यह वीडियो 2020 का है...</td>\n",
       "    </tr>\n",
       "    <tr>\n",
       "      <th>2703</th>\n",
       "      <td>ढांचे वाली जगह पर ही बन रहा मंदिर, तीन किलोमी...</td>\n",
       "    </tr>\n",
       "  </tbody>\n",
       "</table>\n",
       "<p>2704 rows × 1 columns</p>\n",
       "</div>"
      ],
      "text/plain": [
       "                                      short_description\n",
       "0      गडकरी ने नहीं दिया है पीएम मोदी और राम मंदिर ...\n",
       "1      राम मंदिर वहीं बना है जहां रामलला विराजमान थे...\n",
       "2      यूपी में बोर्ड की परीक्षा नहीं हुई है रद्द, य...\n",
       "3      नेपाल से अयोध्या के जुलूस का नहीं, ये ग्रेटर ...\n",
       "4      एमपी का सीएम बनने के बाद मोहन यादव ने दी जनता...\n",
       "...                                                 ...\n",
       "2699    राजस्थान की महिला MLA की छवि खराब करने के लि...\n",
       "2700    मध्य प्रदेश की साल 2019 की घटना को हालिया बत...\n",
       "2701   खुर्जा में बोइंग का वेयरहाउस खुला, लेकिन वायर...\n",
       "2702   जलते हुए समुद्री जहाज का यह वीडियो 2020 का है...\n",
       "2703   ढांचे वाली जगह पर ही बन रहा मंदिर, तीन किलोमी...\n",
       "\n",
       "[2704 rows x 1 columns]"
      ]
     },
     "execution_count": 138,
     "metadata": {},
     "output_type": "execute_result"
    }
   ],
   "source": [
    "fake_news"
   ]
  },
  {
   "cell_type": "code",
   "execution_count": 139,
   "id": "2e8f0119",
   "metadata": {},
   "outputs": [
    {
     "data": {
      "text/html": [
       "<div>\n",
       "<style scoped>\n",
       "    .dataframe tbody tr th:only-of-type {\n",
       "        vertical-align: middle;\n",
       "    }\n",
       "\n",
       "    .dataframe tbody tr th {\n",
       "        vertical-align: top;\n",
       "    }\n",
       "\n",
       "    .dataframe thead th {\n",
       "        text-align: right;\n",
       "    }\n",
       "</style>\n",
       "<table border=\"1\" class=\"dataframe\">\n",
       "  <thead>\n",
       "    <tr style=\"text-align: right;\">\n",
       "      <th></th>\n",
       "      <th>short_description</th>\n",
       "    </tr>\n",
       "  </thead>\n",
       "  <tbody>\n",
       "    <tr>\n",
       "      <th>0</th>\n",
       "      <td>राम मंदिर प्राण-प्रतिष्ठा: फर्श पर सोना-नारियल...</td>\n",
       "    </tr>\n",
       "    <tr>\n",
       "      <th>1</th>\n",
       "      <td>Ayodhya Ram Mandir Pran Pratishtha से पहले कठि...</td>\n",
       "    </tr>\n",
       "    <tr>\n",
       "      <th>2</th>\n",
       "      <td>8 PHOTOS:देखें रामलला की प्राण-प्रतिष्ठा से पह...</td>\n",
       "    </tr>\n",
       "    <tr>\n",
       "      <th>3</th>\n",
       "      <td>22 जनवरी को अयोध्या में कैसा रहेगा मौसम, जानें...</td>\n",
       "    </tr>\n",
       "    <tr>\n",
       "      <th>4</th>\n",
       "      <td>सोलापुर में PM की 15 बड़ी बातें, मोदी के 22 जन...</td>\n",
       "    </tr>\n",
       "    <tr>\n",
       "      <th>...</th>\n",
       "      <td>...</td>\n",
       "    </tr>\n",
       "    <tr>\n",
       "      <th>4015</th>\n",
       "      <td>प्राण प्रतिष्ठा की अयोध्या से लेकर कैलिफोर्निय...</td>\n",
       "    </tr>\n",
       "    <tr>\n",
       "      <th>4016</th>\n",
       "      <td>छक्का जड़ने पर मिलेंगे 12 रन... जल्द आएगा नया ...</td>\n",
       "    </tr>\n",
       "    <tr>\n",
       "      <th>4017</th>\n",
       "      <td>Power Consumption: चालू वित्त वर्ष की अप्रैल-द...</td>\n",
       "    </tr>\n",
       "    <tr>\n",
       "      <th>4018</th>\n",
       "      <td>Entertainment Top 5 News 21 Jan: 'फाइटर' में क...</td>\n",
       "    </tr>\n",
       "    <tr>\n",
       "      <th>4019</th>\n",
       "      <td>Ram Mandir के लिए 'सालार' के मेकर्स ने तैयार क...</td>\n",
       "    </tr>\n",
       "  </tbody>\n",
       "</table>\n",
       "<p>4020 rows × 1 columns</p>\n",
       "</div>"
      ],
      "text/plain": [
       "                                      short_description\n",
       "0     राम मंदिर प्राण-प्रतिष्ठा: फर्श पर सोना-नारियल...\n",
       "1     Ayodhya Ram Mandir Pran Pratishtha से पहले कठि...\n",
       "2     8 PHOTOS:देखें रामलला की प्राण-प्रतिष्ठा से पह...\n",
       "3     22 जनवरी को अयोध्या में कैसा रहेगा मौसम, जानें...\n",
       "4     सोलापुर में PM की 15 बड़ी बातें, मोदी के 22 जन...\n",
       "...                                                 ...\n",
       "4015  प्राण प्रतिष्ठा की अयोध्या से लेकर कैलिफोर्निय...\n",
       "4016  छक्का जड़ने पर मिलेंगे 12 रन... जल्द आएगा नया ...\n",
       "4017  Power Consumption: चालू वित्त वर्ष की अप्रैल-द...\n",
       "4018  Entertainment Top 5 News 21 Jan: 'फाइटर' में क...\n",
       "4019  Ram Mandir के लिए 'सालार' के मेकर्स ने तैयार क...\n",
       "\n",
       "[4020 rows x 1 columns]"
      ]
     },
     "execution_count": 139,
     "metadata": {},
     "output_type": "execute_result"
    }
   ],
   "source": [
    "true_news"
   ]
  },
  {
   "cell_type": "code",
   "execution_count": 140,
   "id": "510b8068",
   "metadata": {},
   "outputs": [],
   "source": [
    "\n",
    "import re\n",
    "\n",
    "for i in list(true_news):\n",
    "    # Define a list of characters to remove\n",
    "    characters_to_remove = ['|', '?', ':', ';', \"'\", '\"', ',', '.', '(', ')', '\\n', '&','।']\n",
    "    \n",
    "    # Use a regular expression to replace all characters in the list\n",
    "    pattern = '|'.join(map(re.escape, characters_to_remove))\n",
    "    true_news[i] = true_news[i].str.replace(pattern, '', regex=True)"
   ]
  },
  {
   "cell_type": "code",
   "execution_count": 141,
   "id": "de67a826",
   "metadata": {},
   "outputs": [],
   "source": [
    "import re\n",
    "\n",
    "for j in list(fake_news):\n",
    "    # Define a list of characters to remove\n",
    "    characters_to_remove = ['|', '?', ':', ';', \"'\", '\"', ',', '.', '(', ')', '\\n', '&','।']\n",
    "    \n",
    "    # Use a regular expression to replace all characters in the list\n",
    "    pattern = '|'.join(map(re.escape, characters_to_remove))\n",
    "    fake_news[j] = fake_news[j].str.replace(pattern, '', regex=True)"
   ]
  },
  {
   "cell_type": "code",
   "execution_count": 142,
   "id": "e19b0c47",
   "metadata": {},
   "outputs": [],
   "source": [
    "# Define stemming function for Hindi text\n",
    "suffixes = {\n",
    "    1: [\"ो\", \"े\", \"ू\", \"ु\", \"ी\", \"ि\", \"ा\"],\n",
    "    2: [\"कर\", \"ाओ\", \"िए\", \"ाई\", \"ाए\", \"ने\", \"नी\", \"ना\", \"ते\", \"ीं\", \"ती\", \"ता\", \"ाँ\", \"ां\", \"ों\", \"ें\"],\n",
    "    3: [\"ाकर\", \"ाइए\", \"ाईं\", \"ाया\", \"ेगी\", \"ेगा\", \"ोगी\", \"ोगे\", \"ाने\", \"ाना\", \"ाते\", \"ाती\", \"ाता\", \"तीं\", \"ाओं\", \"ाएं\", \"ुओं\", \"ुएं\", \"ुआं\"],\n",
    "    4: [\"ाएगी\", \"ाएगा\", \"ाओगी\", \"ाओगे\", \"एंगी\", \"ेंगी\", \"एंगे\", \"ेंगे\", \"ूंगी\", \"ूंगा\", \"ातीं\", \"नाओं\", \"नाएं\", \"ताओं\", \"ताएं\", \"ियाँ\", \"ियों\", \"ियां\"],\n",
    "    5: [\"ाएंगी\", \"ाएंगे\", \"ाऊंगी\", \"ाऊंगा\", \"ाइयाँ\", \"ाइयों\", \"ाइयां\"],\n",
    "}\n",
    "\n",
    "def hi_stem(word):\n",
    "    for L in 5, 4, 3, 2, 1:\n",
    "        if len(word) > L + 1:\n",
    "            for suf in suffixes[L]:\n",
    "                if word.endswith(suf):\n",
    "                    return word[:-L]\n",
    "    return word"
   ]
  },
  {
   "cell_type": "code",
   "execution_count": 143,
   "id": "e39f3e16",
   "metadata": {},
   "outputs": [],
   "source": [
    "# Index lists containing indices of rows in fake_news and true_news DataFrames\n",
    "id=list(fake_news.index)\n",
    "id1=list(true_news.index)"
   ]
  },
  {
   "cell_type": "code",
   "execution_count": 144,
   "id": "2fb0bd53",
   "metadata": {},
   "outputs": [],
   "source": [
    "# Initialize an empty string variable to store the stemmed text\n",
    "str_temp = \"\"\n",
    "\n",
    "# Loop through each column in the fake_news DataFrame\n",
    "for i in list(fake_news):\n",
    "    # Initialize a counter variable to keep track of row indices\n",
    "    count = 0\n",
    "    \n",
    "    # Loop through each row in the current column\n",
    "    for j in list(fake_news[i]):\n",
    "        # Loop through each word in the current text\n",
    "        for words in j.split():\n",
    "            # Apply Hindi stemming function to each word and concatenate them\n",
    "            str_temp += hi_stem(words)\n",
    "            str_temp += \" \"\n",
    "        \n",
    "        # Update the text in the corresponding cell of the fake_news DataFrame with the stemmed text\n",
    "        fake_news.loc[id[count], i] = str_temp\n",
    "        \n",
    "        # Reset the temporary string variable for the next row\n",
    "        str_temp = \"\"\n",
    "        \n",
    "        # Increment the row index counter\n",
    "        count += 1"
   ]
  },
  {
   "cell_type": "code",
   "execution_count": 145,
   "id": "3abfa39a",
   "metadata": {},
   "outputs": [],
   "source": [
    "\n",
    "# Initialize an empty string variable to store the stemmed text\n",
    "str_temp = \"\"\n",
    "\n",
    "# Loop through each column in the true_news DataFrame\n",
    "for i in list(true_news):\n",
    "    # Initialize a counter variable to keep track of row indices\n",
    "    count = 0\n",
    "    \n",
    "    # Loop through each row in the current column\n",
    "    for j in list(true_news[i]):\n",
    "        # Loop through each word in the current text\n",
    "        for words in j.split():\n",
    "            # Apply Hindi stemming function to each word and concatenate them\n",
    "            str_temp += hi_stem(words)\n",
    "            str_temp += \" \"\n",
    "        \n",
    "        # Update the text in the corresponding cell of the true_news DataFrame with the stemmed text\n",
    "        true_news.loc[id1[count], i] = str_temp\n",
    "        \n",
    "        # Reset the temporary string variable for the next row\n",
    "        str_temp = \"\"\n",
    "        \n",
    "        # Increment the row index counter\n",
    "        count += 1"
   ]
  },
  {
   "cell_type": "code",
   "execution_count": 146,
   "id": "a6356ede",
   "metadata": {},
   "outputs": [
    {
     "data": {
      "text/html": [
       "<div>\n",
       "<style scoped>\n",
       "    .dataframe tbody tr th:only-of-type {\n",
       "        vertical-align: middle;\n",
       "    }\n",
       "\n",
       "    .dataframe tbody tr th {\n",
       "        vertical-align: top;\n",
       "    }\n",
       "\n",
       "    .dataframe thead th {\n",
       "        text-align: right;\n",
       "    }\n",
       "</style>\n",
       "<table border=\"1\" class=\"dataframe\">\n",
       "  <thead>\n",
       "    <tr style=\"text-align: right;\">\n",
       "      <th></th>\n",
       "      <th>short_description</th>\n",
       "    </tr>\n",
       "  </thead>\n",
       "  <tbody>\n",
       "    <tr>\n",
       "      <th>0</th>\n",
       "      <td>गडकर ने नह दिय है पीएम मोद और राम मंदिर से जुड...</td>\n",
       "    </tr>\n",
       "    <tr>\n",
       "      <th>1</th>\n",
       "      <td>राम मंदिर वह बन है जह रामलल विराजमान थे बाबर स...</td>\n",
       "    </tr>\n",
       "    <tr>\n",
       "      <th>2</th>\n",
       "      <td>यूप में बोर्ड की परीक्ष नह हुई है रद्द ये वीडि...</td>\n",
       "    </tr>\n",
       "    <tr>\n",
       "      <th>3</th>\n",
       "      <td>नेपाल से अयोध्य के जुलूस का नह ये ग्रेटर नोएड ...</td>\n",
       "    </tr>\n",
       "    <tr>\n",
       "      <th>4</th>\n",
       "      <td>एमप का सीएम बन के बाद मोहन यादव ने दी जन को गा...</td>\n",
       "    </tr>\n",
       "  </tbody>\n",
       "</table>\n",
       "</div>"
      ],
      "text/plain": [
       "                                   short_description\n",
       "0  गडकर ने नह दिय है पीएम मोद और राम मंदिर से जुड...\n",
       "1  राम मंदिर वह बन है जह रामलल विराजमान थे बाबर स...\n",
       "2  यूप में बोर्ड की परीक्ष नह हुई है रद्द ये वीडि...\n",
       "3  नेपाल से अयोध्य के जुलूस का नह ये ग्रेटर नोएड ...\n",
       "4  एमप का सीएम बन के बाद मोहन यादव ने दी जन को गा..."
      ]
     },
     "execution_count": 146,
     "metadata": {},
     "output_type": "execute_result"
    }
   ],
   "source": [
    "fake_news.head()"
   ]
  },
  {
   "cell_type": "code",
   "execution_count": 147,
   "id": "a868c5a2",
   "metadata": {},
   "outputs": [
    {
     "data": {
      "text/html": [
       "<div>\n",
       "<style scoped>\n",
       "    .dataframe tbody tr th:only-of-type {\n",
       "        vertical-align: middle;\n",
       "    }\n",
       "\n",
       "    .dataframe tbody tr th {\n",
       "        vertical-align: top;\n",
       "    }\n",
       "\n",
       "    .dataframe thead th {\n",
       "        text-align: right;\n",
       "    }\n",
       "</style>\n",
       "<table border=\"1\" class=\"dataframe\">\n",
       "  <thead>\n",
       "    <tr style=\"text-align: right;\">\n",
       "      <th></th>\n",
       "      <th>short_description</th>\n",
       "    </tr>\n",
       "  </thead>\n",
       "  <tbody>\n",
       "    <tr>\n",
       "      <th>0</th>\n",
       "      <td>राम मंदिर प्राण-प्रतिष्ठ फर्श पर सोना-नारियल प...</td>\n",
       "    </tr>\n",
       "    <tr>\n",
       "      <th>1</th>\n",
       "      <td>Ayodhya Ram Mandir Pran Pratishtha से पहल कठिन...</td>\n",
       "    </tr>\n",
       "    <tr>\n",
       "      <th>2</th>\n",
       "      <td>8 PHOTOSदेख रामलल की प्राण-प्रतिष्ठ से पहल कैस...</td>\n",
       "    </tr>\n",
       "    <tr>\n",
       "      <th>3</th>\n",
       "      <td>22 जनवर को अयोध्य में कैस रह मौसम जान क्य है I...</td>\n",
       "    </tr>\n",
       "    <tr>\n",
       "      <th>4</th>\n",
       "      <td>सोलापुर में PM की 15 बड़ बात मोद के 22 जनवर बो...</td>\n",
       "    </tr>\n",
       "    <tr>\n",
       "      <th>...</th>\n",
       "      <td>...</td>\n",
       "    </tr>\n",
       "    <tr>\n",
       "      <th>4015</th>\n",
       "      <td>प्राण प्रतिष्ठ की अयोध्य से ले कैलिफोर्निय तक ...</td>\n",
       "    </tr>\n",
       "    <tr>\n",
       "      <th>4016</th>\n",
       "      <td>छक्क जड़ पर मिल 12 रन जल्द आएग नय नियम! रोहित ...</td>\n",
       "    </tr>\n",
       "    <tr>\n",
       "      <th>4017</th>\n",
       "      <td>Power Consumption चाल वित्त वर्ष की अप्रैल-दिस...</td>\n",
       "    </tr>\n",
       "    <tr>\n",
       "      <th>4018</th>\n",
       "      <td>Entertainment Top 5 News 21 Jan फाइटर में किए ...</td>\n",
       "    </tr>\n",
       "    <tr>\n",
       "      <th>4019</th>\n",
       "      <td>Ram Mandir के लिए सालार के मेकर्स ने तैयार किय...</td>\n",
       "    </tr>\n",
       "  </tbody>\n",
       "</table>\n",
       "<p>4020 rows × 1 columns</p>\n",
       "</div>"
      ],
      "text/plain": [
       "                                      short_description\n",
       "0     राम मंदिर प्राण-प्रतिष्ठ फर्श पर सोना-नारियल प...\n",
       "1     Ayodhya Ram Mandir Pran Pratishtha से पहल कठिन...\n",
       "2     8 PHOTOSदेख रामलल की प्राण-प्रतिष्ठ से पहल कैस...\n",
       "3     22 जनवर को अयोध्य में कैस रह मौसम जान क्य है I...\n",
       "4     सोलापुर में PM की 15 बड़ बात मोद के 22 जनवर बो...\n",
       "...                                                 ...\n",
       "4015  प्राण प्रतिष्ठ की अयोध्य से ले कैलिफोर्निय तक ...\n",
       "4016  छक्क जड़ पर मिल 12 रन जल्द आएग नय नियम! रोहित ...\n",
       "4017  Power Consumption चाल वित्त वर्ष की अप्रैल-दिस...\n",
       "4018  Entertainment Top 5 News 21 Jan फाइटर में किए ...\n",
       "4019  Ram Mandir के लिए सालार के मेकर्स ने तैयार किय...\n",
       "\n",
       "[4020 rows x 1 columns]"
      ]
     },
     "execution_count": 147,
     "metadata": {},
     "output_type": "execute_result"
    }
   ],
   "source": [
    "true_news\n"
   ]
  },
  {
   "cell_type": "code",
   "execution_count": 148,
   "id": "4e99d0d7",
   "metadata": {},
   "outputs": [],
   "source": [
    "# Open the file containing stopwords for Hindi text\n",
    "stop = open(r\"D:\\fake review\\final_stopwords.txt\", encoding=\"utf-8\")\n",
    "\n",
    "# Initialize an empty list to store the stopwords\n",
    "stopwords = []\n",
    "\n",
    "# Loop through each line in the file\n",
    "for x in stop:\n",
    "    # Remove the newline character from each line and append the word to the stopwords list\n",
    "    x = x.replace('\\n', '')\n",
    "    stopwords.append(x)"
   ]
  },
  {
   "cell_type": "code",
   "execution_count": 149,
   "id": "dcb32704",
   "metadata": {},
   "outputs": [],
   "source": [
    "# Initialize an empty string variable to store the filtered text\n",
    "str_temp = \"\"\n",
    "\n",
    "# Initialize a counter variable to keep track of row indices\n",
    "count = 0\n",
    "\n",
    "# Loop through each column in the fake_news DataFrame\n",
    "for i in list(fake_news):\n",
    "    # Reset the row index counter\n",
    "    count = 0\n",
    "    \n",
    "    # Loop through each row in the current column\n",
    "    for j in list(fake_news[i]):\n",
    "        # Loop through each word in the current text\n",
    "        for words in j.split():\n",
    "            # Check if the word is not in the list of stopwords\n",
    "            if words not in stopwords:\n",
    "                # Append the word to the filtered text\n",
    "                str_temp += words\n",
    "                str_temp += \" \"\n",
    "        \n",
    "        # Update the text in the corresponding cell of the fake_news DataFrame with the filtered text\n",
    "        fake_news.loc[id[count], i] = str_temp\n",
    "        \n",
    "        # Reset the temporary string variable for the next row\n",
    "        str_temp = \"\"\n",
    "        \n",
    "        # Increment the row index counter\n",
    "        count += 1\n"
   ]
  },
  {
   "cell_type": "code",
   "execution_count": 150,
   "id": "7e380883",
   "metadata": {},
   "outputs": [],
   "source": [
    "# Initialize an empty string variable to store the filtered text\n",
    "str_temp = \"\"\n",
    "\n",
    "# Initialize a counter variable to keep track of row indices\n",
    "count = 0\n",
    "\n",
    "# Loop through each column in the true_news DataFrame\n",
    "for i in list(true_news):\n",
    "    # Reset the row index counter\n",
    "    count = 0\n",
    "    \n",
    "    # Loop through each row in the current column\n",
    "    for j in list(true_news[i]):\n",
    "        # Loop through each word in the current text\n",
    "        for words in j.split():\n",
    "            # Check if the word is not in the list of stopwords\n",
    "            if words not in stopwords:\n",
    "                # Append the word to the filtered text\n",
    "                str_temp += words\n",
    "                str_temp += \" \"\n",
    "        \n",
    "        # Update the text in the corresponding cell of the true_news DataFrame with the filtered text\n",
    "        true_news.loc[id1[count], i] = str_temp\n",
    "        \n",
    "        # Reset the temporary string variable for the next row\n",
    "        str_temp = \"\"\n",
    "        \n",
    "        # Increment the row index counter\n",
    "        count += 1\n"
   ]
  },
  {
   "cell_type": "code",
   "execution_count": 151,
   "id": "312d7733",
   "metadata": {},
   "outputs": [
    {
     "data": {
      "text/html": [
       "<div>\n",
       "<style scoped>\n",
       "    .dataframe tbody tr th:only-of-type {\n",
       "        vertical-align: middle;\n",
       "    }\n",
       "\n",
       "    .dataframe tbody tr th {\n",
       "        vertical-align: top;\n",
       "    }\n",
       "\n",
       "    .dataframe thead th {\n",
       "        text-align: right;\n",
       "    }\n",
       "</style>\n",
       "<table border=\"1\" class=\"dataframe\">\n",
       "  <thead>\n",
       "    <tr style=\"text-align: right;\">\n",
       "      <th></th>\n",
       "      <th>short_description</th>\n",
       "    </tr>\n",
       "  </thead>\n",
       "  <tbody>\n",
       "    <tr>\n",
       "      <th>0</th>\n",
       "      <td>गडकर नह दिय पीएम मोद राम मंदिर जुड़ विवादित बयान</td>\n",
       "    </tr>\n",
       "    <tr>\n",
       "      <th>1</th>\n",
       "      <td>राम मंदिर बन जह रामलल विराजमान बाबर तीन किलोमी...</td>\n",
       "    </tr>\n",
       "    <tr>\n",
       "      <th>2</th>\n",
       "      <td>यूप बोर्ड परीक्ष नह रद्द वीडिय पूर फर्ज</td>\n",
       "    </tr>\n",
       "    <tr>\n",
       "      <th>3</th>\n",
       "      <td>नेपाल अयोध्य के जुलूस नह ग्रेटर नोएड कलश यात्र...</td>\n",
       "    </tr>\n",
       "    <tr>\n",
       "      <th>4</th>\n",
       "      <td>एमप सीएम बन के मोहन यादव दी जन गाल वीडिय सच</td>\n",
       "    </tr>\n",
       "  </tbody>\n",
       "</table>\n",
       "</div>"
      ],
      "text/plain": [
       "                                   short_description\n",
       "0  गडकर नह दिय पीएम मोद राम मंदिर जुड़ विवादित बयान \n",
       "1  राम मंदिर बन जह रामलल विराजमान बाबर तीन किलोमी...\n",
       "2           यूप बोर्ड परीक्ष नह रद्द वीडिय पूर फर्ज \n",
       "3  नेपाल अयोध्य के जुलूस नह ग्रेटर नोएड कलश यात्र...\n",
       "4       एमप सीएम बन के मोहन यादव दी जन गाल वीडिय सच "
      ]
     },
     "execution_count": 151,
     "metadata": {},
     "output_type": "execute_result"
    }
   ],
   "source": [
    "fake_news.head()"
   ]
  },
  {
   "cell_type": "code",
   "execution_count": 152,
   "id": "80b91413",
   "metadata": {},
   "outputs": [
    {
     "data": {
      "text/html": [
       "<div>\n",
       "<style scoped>\n",
       "    .dataframe tbody tr th:only-of-type {\n",
       "        vertical-align: middle;\n",
       "    }\n",
       "\n",
       "    .dataframe tbody tr th {\n",
       "        vertical-align: top;\n",
       "    }\n",
       "\n",
       "    .dataframe thead th {\n",
       "        text-align: right;\n",
       "    }\n",
       "</style>\n",
       "<table border=\"1\" class=\"dataframe\">\n",
       "  <thead>\n",
       "    <tr style=\"text-align: right;\">\n",
       "      <th></th>\n",
       "      <th>short_description</th>\n",
       "    </tr>\n",
       "  </thead>\n",
       "  <tbody>\n",
       "    <tr>\n",
       "      <th>0</th>\n",
       "      <td>राम मंदिर प्राण-प्रतिष्ठ फर्श सोना-नारियल पा प...</td>\n",
       "    </tr>\n",
       "    <tr>\n",
       "      <th>1</th>\n",
       "      <td>Ayodhya Ram Mandir Pran Pratishtha पहल कठिन तप...</td>\n",
       "    </tr>\n",
       "    <tr>\n",
       "      <th>2</th>\n",
       "      <td>8 PHOTOSदेख रामलल प्राण-प्रतिष्ठ पहल कैस सज अय...</td>\n",
       "    </tr>\n",
       "    <tr>\n",
       "      <th>3</th>\n",
       "      <td>22 जनवर अयोध्य कैस रह मौसम जान क्य IMD भविष्यवाण</td>\n",
       "    </tr>\n",
       "    <tr>\n",
       "      <th>4</th>\n",
       "      <td>सोलापुर PM 15 बड़ बात मोद के 22 जनवर बोल चार त...</td>\n",
       "    </tr>\n",
       "  </tbody>\n",
       "</table>\n",
       "</div>"
      ],
      "text/plain": [
       "                                   short_description\n",
       "0  राम मंदिर प्राण-प्रतिष्ठ फर्श सोना-नारियल पा प...\n",
       "1  Ayodhya Ram Mandir Pran Pratishtha पहल कठिन तप...\n",
       "2  8 PHOTOSदेख रामलल प्राण-प्रतिष्ठ पहल कैस सज अय...\n",
       "3  22 जनवर अयोध्य कैस रह मौसम जान क्य IMD भविष्यवाण \n",
       "4  सोलापुर PM 15 बड़ बात मोद के 22 जनवर बोल चार त..."
      ]
     },
     "execution_count": 152,
     "metadata": {},
     "output_type": "execute_result"
    }
   ],
   "source": [
    "true_news.head()"
   ]
  },
  {
   "cell_type": "code",
   "execution_count": 153,
   "id": "da911b39",
   "metadata": {},
   "outputs": [],
   "source": [
    "# Assigning labels to distinguish between true and fake news\n",
    "true_news['label'] = \"true\"\n",
    "fake_news['label'] = \"false\"\n",
    "\n",
    "# Concatenate the true_news and fake_news DataFrames to create a single DataFrame containing both types of news\n",
    "news = pd.concat([fake_news, true_news])\n"
   ]
  },
  {
   "cell_type": "code",
   "execution_count": 154,
   "id": "bd8cd5d1",
   "metadata": {},
   "outputs": [
    {
     "data": {
      "text/html": [
       "<div>\n",
       "<style scoped>\n",
       "    .dataframe tbody tr th:only-of-type {\n",
       "        vertical-align: middle;\n",
       "    }\n",
       "\n",
       "    .dataframe tbody tr th {\n",
       "        vertical-align: top;\n",
       "    }\n",
       "\n",
       "    .dataframe thead th {\n",
       "        text-align: right;\n",
       "    }\n",
       "</style>\n",
       "<table border=\"1\" class=\"dataframe\">\n",
       "  <thead>\n",
       "    <tr style=\"text-align: right;\">\n",
       "      <th></th>\n",
       "      <th>short_description</th>\n",
       "      <th>label</th>\n",
       "    </tr>\n",
       "  </thead>\n",
       "  <tbody>\n",
       "    <tr>\n",
       "      <th>4015</th>\n",
       "      <td>प्राण प्रतिष्ठ अयोध्य ले कैलिफोर्निय धूम कार र...</td>\n",
       "      <td>true</td>\n",
       "    </tr>\n",
       "    <tr>\n",
       "      <th>4016</th>\n",
       "      <td>छक्क जड़ मिल 12 रन जल्द आएग नय नियम! रोहित के ...</td>\n",
       "      <td>true</td>\n",
       "    </tr>\n",
       "    <tr>\n",
       "      <th>4017</th>\n",
       "      <td>Power Consumption चाल वित्त वर्ष अप्रैल-दिसंबर...</td>\n",
       "      <td>true</td>\n",
       "    </tr>\n",
       "    <tr>\n",
       "      <th>4018</th>\n",
       "      <td>Entertainment Top 5 News 21 Jan फाइटर बड़ बदला...</td>\n",
       "      <td>true</td>\n",
       "    </tr>\n",
       "    <tr>\n",
       "      <th>4019</th>\n",
       "      <td>Ram Mandir के सालार के मेकर्स तैयार किय रामचंद...</td>\n",
       "      <td>true</td>\n",
       "    </tr>\n",
       "  </tbody>\n",
       "</table>\n",
       "</div>"
      ],
      "text/plain": [
       "                                      short_description label\n",
       "4015  प्राण प्रतिष्ठ अयोध्य ले कैलिफोर्निय धूम कार र...  true\n",
       "4016  छक्क जड़ मिल 12 रन जल्द आएग नय नियम! रोहित के ...  true\n",
       "4017  Power Consumption चाल वित्त वर्ष अप्रैल-दिसंबर...  true\n",
       "4018  Entertainment Top 5 News 21 Jan फाइटर बड़ बदला...  true\n",
       "4019  Ram Mandir के सालार के मेकर्स तैयार किय रामचंद...  true"
      ]
     },
     "execution_count": 154,
     "metadata": {},
     "output_type": "execute_result"
    }
   ],
   "source": [
    "news.tail()"
   ]
  },
  {
   "cell_type": "code",
   "execution_count": 155,
   "id": "569a2bdf",
   "metadata": {},
   "outputs": [
    {
     "data": {
      "text/html": [
       "<div>\n",
       "<style scoped>\n",
       "    .dataframe tbody tr th:only-of-type {\n",
       "        vertical-align: middle;\n",
       "    }\n",
       "\n",
       "    .dataframe tbody tr th {\n",
       "        vertical-align: top;\n",
       "    }\n",
       "\n",
       "    .dataframe thead th {\n",
       "        text-align: right;\n",
       "    }\n",
       "</style>\n",
       "<table border=\"1\" class=\"dataframe\">\n",
       "  <thead>\n",
       "    <tr style=\"text-align: right;\">\n",
       "      <th></th>\n",
       "      <th>short_description</th>\n",
       "      <th>label</th>\n",
       "    </tr>\n",
       "  </thead>\n",
       "  <tbody>\n",
       "    <tr>\n",
       "      <th>0</th>\n",
       "      <td>गडकर नह दिय पीएम मोद राम मंदिर जुड़ विवादित बयान</td>\n",
       "      <td>false</td>\n",
       "    </tr>\n",
       "    <tr>\n",
       "      <th>1</th>\n",
       "      <td>राम मंदिर बन जह रामलल विराजमान बाबर तीन किलोमी...</td>\n",
       "      <td>false</td>\n",
       "    </tr>\n",
       "    <tr>\n",
       "      <th>2</th>\n",
       "      <td>यूप बोर्ड परीक्ष नह रद्द वीडिय पूर फर्ज</td>\n",
       "      <td>false</td>\n",
       "    </tr>\n",
       "    <tr>\n",
       "      <th>3</th>\n",
       "      <td>नेपाल अयोध्य के जुलूस नह ग्रेटर नोएड कलश यात्र...</td>\n",
       "      <td>false</td>\n",
       "    </tr>\n",
       "    <tr>\n",
       "      <th>4</th>\n",
       "      <td>एमप सीएम बन के मोहन यादव दी जन गाल वीडिय सच</td>\n",
       "      <td>false</td>\n",
       "    </tr>\n",
       "  </tbody>\n",
       "</table>\n",
       "</div>"
      ],
      "text/plain": [
       "                                   short_description  label\n",
       "0  गडकर नह दिय पीएम मोद राम मंदिर जुड़ विवादित बयान   false\n",
       "1  राम मंदिर बन जह रामलल विराजमान बाबर तीन किलोमी...  false\n",
       "2           यूप बोर्ड परीक्ष नह रद्द वीडिय पूर फर्ज   false\n",
       "3  नेपाल अयोध्य के जुलूस नह ग्रेटर नोएड कलश यात्र...  false\n",
       "4       एमप सीएम बन के मोहन यादव दी जन गाल वीडिय सच   false"
      ]
     },
     "execution_count": 155,
     "metadata": {},
     "output_type": "execute_result"
    }
   ],
   "source": [
    "news.head()"
   ]
  },
  {
   "cell_type": "code",
   "execution_count": 156,
   "id": "1631530a",
   "metadata": {},
   "outputs": [],
   "source": [
    "import numpy as np\n",
    "from tensorflow.keras.models import Sequential\n",
    "from tensorflow.keras.layers import Embedding, Conv1D, MaxPooling1D, LSTM, Dense,Flatten\n",
    "from tensorflow.keras.optimizers import Adam\n",
    "from tensorflow.keras.preprocessing.text import Tokenizer\n",
    "from tensorflow.keras.preprocessing.sequence import pad_sequences\n",
    "from sklearn.model_selection import train_test_split\n",
    "import fasttext\n",
    "import fasttext.util\n",
    "from sklearn.model_selection import train_test_split\n",
    "from sklearn.metrics import accuracy_score, recall_score, precision_score, f1_score\n"
   ]
  },
  {
   "cell_type": "code",
   "execution_count": 157,
   "id": "1a5e925f",
   "metadata": {},
   "outputs": [],
   "source": [
    "# Load your FastText word embeddings model\n",
    "fasttext.util.download_model('hi', if_exists='ignore')  # Download the FastText model if not already downloaded\n",
    "ft = fasttext.load_model('cc.hi.300.bin')"
   ]
  },
  {
   "cell_type": "code",
   "execution_count": 158,
   "id": "ef72dfa5",
   "metadata": {},
   "outputs": [],
   "source": [
    "# Assigning the entire 'news' DataFrame to the training_data variable\n",
    "# This assumes that the 'news' DataFrame contains the combined dataset of both true and fake news\n",
    "training_data = news\n",
    "\n",
    "# Define the maximum sequence length for padding sequences\n",
    "# This determines the maximum length of sequences after tokenization and padding\n",
    "max_sequence_length = 300\n"
   ]
  },
  {
   "cell_type": "code",
   "execution_count": 159,
   "id": "399cc58e",
   "metadata": {},
   "outputs": [],
   "source": [
    "# Initialize an empty list to store the binary labels\n",
    "all_labels = list()\n",
    "\n",
    "# Iterate through each value in the second column of the 'news' DataFrame\n",
    "# Assuming the second column contains the labels ('true' or 'false')\n",
    "for i in news.iloc[:, 1]:\n",
    "    # Check if the label is 'false', assign 0 as the binary label\n",
    "    if i == 'false':\n",
    "        all_labels.append(0)\n",
    "    # If the label is not 'false', assign 1 as the binary label\n",
    "    else:\n",
    "        all_labels.append(1)\n",
    "\n"
   ]
  },
  {
   "cell_type": "code",
   "execution_count": 160,
   "id": "3d0f2fb2",
   "metadata": {},
   "outputs": [],
   "source": [
    "# Initialize a Tokenizer object\n",
    "tokenizer = Tokenizer()\n",
    "\n",
    "# Fit the tokenizer on the text data in the first column of the training_data DataFrame\n",
    "tokenizer.fit_on_texts(training_data.iloc[:, 0])\n",
    "\n",
    "# Convert the text data into sequences of integers using the fitted tokenizer\n",
    "sequences = tokenizer.texts_to_sequences(training_data.iloc[:, 0])\n",
    "\n",
    "# Pad the sequences to ensure uniform length\n",
    "# 'maxlen' parameter specifies the maximum sequence length\n",
    "sequences = pad_sequences(sequences, maxlen=max_sequence_length)\n",
    "\n",
    "# Retrieve the word index dictionary from the tokenizer\n",
    "word_index = tokenizer.word_index\n"
   ]
  },
  {
   "cell_type": "code",
   "execution_count": 161,
   "id": "f2c273c5",
   "metadata": {},
   "outputs": [
    {
     "name": "stdout",
     "output_type": "stream",
     "text": [
      "Vocabulary Size: 6680\n"
     ]
    }
   ],
   "source": [
    "# Determine the vocabulary size by counting the number of unique words in the word index dictionary\n",
    "voc_size = len(word_index)\n",
    "\n",
    "# Print the vocabulary size to the console\n",
    "print(\"Vocabulary Size:\", voc_size)\n"
   ]
  },
  {
   "cell_type": "code",
   "execution_count": 162,
   "id": "1790a423",
   "metadata": {},
   "outputs": [
    {
     "data": {
      "text/plain": [
       "6681"
      ]
     },
     "execution_count": 162,
     "metadata": {},
     "output_type": "execute_result"
    }
   ],
   "source": [
    "# Define the dimensionality of the word embeddings (should match the dimensionality of the FastText model)\n",
    "embedding_dim = 300  # Adjust the dimension based on your FastText model\n",
    "\n",
    "# Create an empty embedding matrix with dimensions (vocabulary size + 1) x embedding_dim\n",
    "# The additional row is for the padding token\n",
    "embedding_matrix = np.zeros((len(word_index) + 1, embedding_dim))\n",
    "\n",
    "# Retrieve the length of the embedding matrix (number of rows)\n",
    "# This should be equal to the size of the vocabulary plus one\n",
    "# (to accommodate the padding token)\n",
    "len(embedding_matrix)\n"
   ]
  },
  {
   "cell_type": "code",
   "execution_count": 163,
   "id": "807fef1c",
   "metadata": {},
   "outputs": [],
   "source": [
    "# Iterate through each word-index pair in the word index dictionary\n",
    "for word, i in word_index.items():\n",
    "\n",
    "    # Check if the current word is present in the FastText model vocabulary\n",
    "    if word in ft.words:\n",
    "        # If the word is found in the FastText model vocabulary,\n",
    "        # retrieve its corresponding embedding vector and assign it to the corresponding row in the embedding matrix\n",
    "        embedding_matrix[i] = ft[word]\n"
   ]
  },
  {
   "cell_type": "code",
   "execution_count": 164,
   "id": "5a844841",
   "metadata": {},
   "outputs": [],
   "source": [
    "# Build the Sequential model using Keras\n",
    "model = Sequential()\n",
    "\n",
    "# Add an embedding layer to the model using the FastText embeddings\n",
    "# The embedding layer is initialized with the pre-trained embedding matrix\n",
    "# 'len(word_index) + 1' specifies the input dimension (vocabulary size + 1)\n",
    "# 'embedding_dim' specifies the dimensionality of the word embeddings\n",
    "# 'weights=[embedding_matrix]' initializes the embedding layer with pre-trained weights\n",
    "# 'input_length=max_sequence_length' specifies the length of input sequences\n",
    "# 'trainable=False' ensures that the embedding weights are not updated during training\n",
    "model.add(Embedding(len(word_index) + 1, embedding_dim, weights=[embedding_matrix], input_length=max_sequence_length, trainable=False))\n"
   ]
  },
  {
   "cell_type": "code",
   "execution_count": 165,
   "id": "5ca338a9",
   "metadata": {},
   "outputs": [],
   "source": [
    "# Add a 1D convolutional layer to the model\n",
    "# 'filters=64' specifies the number of filters in the convolutional layer\n",
    "# 'kernel_size=5' specifies the size of the convolutional kernel\n",
    "# 'activation='relu'' specifies the activation function (Rectified Linear Unit)\n",
    "model.add(Conv1D(filters=64, kernel_size=5, activation='relu'))\n"
   ]
  },
  {
   "cell_type": "code",
   "execution_count": 166,
   "id": "fdb0c0fc",
   "metadata": {},
   "outputs": [],
   "source": [
    "# Add a MaxPooling1D layer\n",
    "model.add(MaxPooling1D(pool_size=2))"
   ]
  },
  {
   "cell_type": "code",
   "execution_count": 167,
   "id": "121b1aeb",
   "metadata": {},
   "outputs": [],
   "source": [
    "# Add an LSTM layer\n",
    "model.add(LSTM(64, activation='linear'))"
   ]
  },
  {
   "cell_type": "code",
   "execution_count": 168,
   "id": "0326c977",
   "metadata": {},
   "outputs": [],
   "source": [
    "model.add(Flatten())\n",
    "\n",
    "# Add the first Dense layer with a unique name\n",
    "model.add(Dense(64, activation='relu', name='dense_1'))\n",
    "\n",
    "# Add the second Dense layer with a unique name\n",
    "model.add(Dense(32, activation='relu', name='dense_2'))\n",
    "\n",
    "# Add the final Dense layer for binary classification with a unique name\n",
    "model.add(Dense(1, activation='sigmoid', name='dense_output'))"
   ]
  },
  {
   "cell_type": "code",
   "execution_count": 169,
   "id": "b8caf685",
   "metadata": {},
   "outputs": [],
   "source": [
    "# Compile the model\n",
    "model.compile(optimizer=Adam(learning_rate=0.001), loss='binary_crossentropy', metrics=['accuracy'])"
   ]
  },
  {
   "cell_type": "code",
   "execution_count": 170,
   "id": "242dddba",
   "metadata": {},
   "outputs": [
    {
     "name": "stdout",
     "output_type": "stream",
     "text": [
      "(5379, 300)\n",
      "5379\n"
     ]
    }
   ],
   "source": [
    "# Convert the list of binary labels to a pandas Series\n",
    "all_labels = pd.Series(all_labels)\n",
    "\n",
    "# Split the data into training and testing sets using train_test_split function\n",
    "# 'sequences' are the input sequences\n",
    "# 'all_labels' are the corresponding binary labels\n",
    "# 'test_size=0.2' specifies that 20% of the data will be used for testing\n",
    "# 'stratify=news['label']' ensures that the class distribution is preserved in the split\n",
    "# 'random_state=40' sets the random seed for reproducibility\n",
    "# 'shuffle=True' shuffles the data before splitting\n",
    "train, test, labels, y_test = train_test_split(sequences, all_labels, test_size=0.2, stratify=news['label'], random_state=40, shuffle=True)\n",
    "\n",
    "# Print the shape of the training data\n",
    "print(train.shape)  # Should be (number_of_samples, max_sequence_length)\n",
    "\n",
    "# Print the length of the labels array\n",
    "print(len(labels))\n"
   ]
  },
  {
   "cell_type": "code",
   "execution_count": 171,
   "id": "703a9cf9",
   "metadata": {},
   "outputs": [
    {
     "name": "stdout",
     "output_type": "stream",
     "text": [
      "Epoch 1/10\n",
      "85/85 [==============================] - 10s 95ms/step - loss: 0.2691 - accuracy: 0.9039\n",
      "Epoch 2/10\n",
      "85/85 [==============================] - 8s 98ms/step - loss: 0.0942 - accuracy: 0.9624\n",
      "Epoch 3/10\n",
      "85/85 [==============================] - 9s 108ms/step - loss: 0.0470 - accuracy: 0.9835\n",
      "Epoch 4/10\n",
      "85/85 [==============================] - 9s 102ms/step - loss: 0.0195 - accuracy: 0.9955\n",
      "Epoch 5/10\n",
      "85/85 [==============================] - 8s 98ms/step - loss: 0.0102 - accuracy: 0.9967\n",
      "Epoch 6/10\n",
      "85/85 [==============================] - 9s 103ms/step - loss: 0.0032 - accuracy: 0.9994\n",
      "Epoch 7/10\n",
      "85/85 [==============================] - 8s 99ms/step - loss: 0.0265 - accuracy: 0.9905\n",
      "Epoch 8/10\n",
      "85/85 [==============================] - 8s 98ms/step - loss: 0.0185 - accuracy: 0.9939\n",
      "Epoch 9/10\n",
      "85/85 [==============================] - 8s 99ms/step - loss: 0.0058 - accuracy: 0.9980\n",
      "Epoch 10/10\n",
      "85/85 [==============================] - 8s 97ms/step - loss: 6.7812e-04 - accuracy: 1.0000\n"
     ]
    },
    {
     "data": {
      "text/plain": [
       "<keras.src.callbacks.History at 0x277a248e620>"
      ]
     },
     "execution_count": 171,
     "metadata": {},
     "output_type": "execute_result"
    }
   ],
   "source": [
    "# Train the model using the training data and labels\n",
    "# 'train' is the input training data (sequences)\n",
    "# 'labels' are the corresponding binary labels\n",
    "# 'epochs=10' specifies the number of training epochs\n",
    "# 'batch_size=64' specifies the batch size for training\n",
    "model.fit(train, labels, epochs=10, batch_size=64)\n"
   ]
  },
  {
   "cell_type": "code",
   "execution_count": 172,
   "id": "e3941e9d",
   "metadata": {},
   "outputs": [],
   "source": [
    "from tensorflow.keras import backend as K\n",
    "K.clear_session()"
   ]
  },
  {
   "cell_type": "code",
   "execution_count": 173,
   "id": "e5eb81db",
   "metadata": {},
   "outputs": [
    {
     "name": "stderr",
     "output_type": "stream",
     "text": [
      "C:\\Users\\vaibh\\anaconda3\\lib\\site-packages\\keras\\src\\engine\\training.py:3103: UserWarning: You are saving your model as an HDF5 file via `model.save()`. This file format is considered legacy. We recommend using instead the native Keras format, e.g. `model.save('my_model.keras')`.\n",
      "  saving_api.save_model(\n"
     ]
    }
   ],
   "source": [
    "# Save the trained model if needed\n",
    "model.save('fake_news_detection_model.h5')"
   ]
  },
  {
   "cell_type": "code",
   "execution_count": 174,
   "id": "50913a47",
   "metadata": {},
   "outputs": [
    {
     "name": "stdout",
     "output_type": "stream",
     "text": [
      "43/43 [==============================] - 1s 24ms/step\n"
     ]
    }
   ],
   "source": [
    "test_res = model.predict(test)"
   ]
  },
  {
   "cell_type": "code",
   "execution_count": 175,
   "id": "8216d9c6",
   "metadata": {},
   "outputs": [
    {
     "name": "stdout",
     "output_type": "stream",
     "text": [
      "0.9762081784386617\n"
     ]
    }
   ],
   "source": [
    "# Convert probabilities to binary predictions using a threshold\n",
    "binary_predictions = [1 if pred > 0.5 else 0 for pred in test_res]\n",
    "\n",
    "# Compute accuracy\n",
    "score = accuracy_score(y_test, binary_predictions)\n",
    "print(score)"
   ]
  },
  {
   "cell_type": "code",
   "execution_count": 176,
   "id": "b419ef3a",
   "metadata": {},
   "outputs": [
    {
     "name": "stdout",
     "output_type": "stream",
     "text": [
      "Accuracy: 0.9762081784386617\n",
      "Recall: 0.9788557213930348\n",
      "Precision: 0.9812967581047382\n",
      "F1 Score: 0.9800747198007472\n"
     ]
    }
   ],
   "source": [
    "# Compute evaluation metrics\n",
    "print(\"Accuracy:\", accuracy_score(y_test, binary_predictions))\n",
    "print(\"Recall:\", recall_score(y_test, binary_predictions))\n",
    "print(\"Precision:\", precision_score(y_test, binary_predictions))\n",
    "print(\"F1 Score:\", f1_score(y_test, binary_predictions))"
   ]
  },
  {
   "cell_type": "code",
   "execution_count": 177,
   "id": "1abd240d",
   "metadata": {},
   "outputs": [
    {
     "name": "stdout",
     "output_type": "stream",
     "text": [
      "Confusion Matrix:\n",
      "[[526  15]\n",
      " [ 17 787]]\n"
     ]
    },
    {
     "data": {
      "image/png": "[encoded data removed]",
      "text/plain": [
       "<Figure size 640x480 with 2 Axes>"
      ]
     },
     "metadata": {},
     "output_type": "display_data"
    }
   ],
   "source": [
    "# Import necessary libraries\n",
    "from sklearn.metrics import confusion_matrix, accuracy_score, recall_score, precision_score, f1_score\n",
    "import matplotlib.pyplot as plt\n",
    "import numpy as np\n",
    "\n",
    "# Calculate the confusion matrix using the actual labels (y_test) and predicted labels (binary_predictions)\n",
    "conf_matrix = confusion_matrix(y_test, binary_predictions)\n",
    "\n",
    "# Display the confusion matrix\n",
    "print(\"Confusion Matrix:\")\n",
    "print(conf_matrix)\n",
    "\n",
    "# Visualize the confusion matrix using Matplotlib\n",
    "plt.imshow(conf_matrix, interpolation='nearest', cmap=plt.cm.Blues)\n",
    "plt.title('Confusion Matrix')\n",
    "plt.colorbar()\n",
    "\n",
    "# Define class labels for the confusion matrix\n",
    "classes = ['Negative (Class 0)', 'Positive (Class 1)']\n",
    "\n",
    "# Set tick marks for the x and y axes\n",
    "tick_marks = np.arange(len(classes))\n",
    "plt.xticks(tick_marks, classes, rotation=45)\n",
    "plt.yticks(tick_marks, classes)\n",
    "\n",
    "# Set labels for x and y axes\n",
    "plt.xlabel('Predicted')\n",
    "plt.ylabel('True')\n",
    "\n",
    "# Add text annotations to each cell of the confusion matrix\n",
    "for i in range(len(classes)):\n",
    "    for j in range(len(classes)):\n",
    "        plt.text(j, i, str(conf_matrix[i, j]), ha='center', va='center', color='white' if conf_matrix[i, j] > (conf_matrix.max() / 2) else 'black')\n",
    "\n",
    "# Show the plot\n",
    "plt.show()\n"
   ]
  },
  {
   "cell_type": "code",
   "execution_count": null,
   "id": "6078ca6f",
   "metadata": {},
   "outputs": [],
   "source": []
  }
 ],
 "metadata": {
  "kernelspec": {
   "display_name": "Python 3 (ipykernel)",
   "language": "python",
   "name": "python3"
  },
  "language_info": {
   "codemirror_mode": {
    "name": "ipython",
    "version": 3
   },
   "file_extension": ".py",
   "mimetype": "text/x-python",
   "name": "python",
   "nbconvert_exporter": "python",
   "pygments_lexer": "ipython3",
   "version": "3.10.9"
  }
 },
 "nbformat": 4,
 "nbformat_minor": 5
}
